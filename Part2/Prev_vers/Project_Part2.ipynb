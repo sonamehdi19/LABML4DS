{
 "cells": [
  {
   "cell_type": "markdown",
   "id": "48644677",
   "metadata": {},
   "source": [
    "# Lab ML for Data Science: Part II   \n",
    "# Getting Insights into Quantum-Chemical Relations"
   ]
  },
  {
   "cell_type": "code",
   "execution_count": 237,
   "id": "4c141d3f",
   "metadata": {},
   "outputs": [],
   "source": [
    "import numpy as np\n",
    "import pandas as pd \n",
    "import scipy.io\n",
    "import matplotlib.pyplot as plt\n",
    "from scipy.spatial.distance import pdist, squareform \n",
    "from scipy.spatial import distance_matrix\n",
    "from sklearn.linear_model import Ridge\n",
    "from sklearn.model_selection import train_test_split, KFold\n",
    "from sklearn.metrics import mean_squared_error,mean_absolute_error\n",
    "from sklearn.preprocessing import StandardScaler"
   ]
  },
  {
   "cell_type": "code",
   "execution_count": 238,
   "id": "9aa4d758",
   "metadata": {},
   "outputs": [],
   "source": [
    "df = scipy.io.loadmat('qm7.mat')"
   ]
  },
  {
   "cell_type": "markdown",
   "id": "aa71d6ae",
   "metadata": {},
   "source": [
    "7165 organic molecules, each of which is composed of up to 23 atoms"
   ]
  },
  {
   "cell_type": "code",
   "execution_count": 239,
   "id": "7009acc6",
   "metadata": {},
   "outputs": [
    {
     "data": {
      "text/plain": [
       "array([[[ 1.8864380e+00, -4.6487264e-03, -8.2392059e-03],\n",
       "        [ 3.9499245e+00, -4.5920345e-03,  7.8234663e-03],\n",
       "        [ 1.1976895e+00,  1.9404842e+00,  7.8234663e-03],\n",
       "        ...,\n",
       "        [ 0.0000000e+00,  0.0000000e+00,  0.0000000e+00],\n",
       "        [ 0.0000000e+00,  0.0000000e+00,  0.0000000e+00],\n",
       "        [ 0.0000000e+00,  0.0000000e+00,  0.0000000e+00]],\n",
       "\n",
       "       [[ 1.8973607e+00, -5.5746920e-03, -1.2094247e-02],\n",
       "        [ 4.7544756e+00, -1.3265877e-02,  1.1149384e-03],\n",
       "        [ 1.1760710e+00,  1.9320560e+00, -3.0991510e-03],\n",
       "        ...,\n",
       "        [ 0.0000000e+00,  0.0000000e+00,  0.0000000e+00],\n",
       "        [ 0.0000000e+00,  0.0000000e+00,  0.0000000e+00],\n",
       "        [ 0.0000000e+00,  0.0000000e+00,  0.0000000e+00]],\n",
       "\n",
       "       [[ 1.8692415e+00,  1.8897261e-04,  0.0000000e+00],\n",
       "        [ 4.3934622e+00, -3.2125344e-04, -0.0000000e+00],\n",
       "        [ 8.1146729e-01,  1.7577099e+00,  0.0000000e+00],\n",
       "        ...,\n",
       "        [ 0.0000000e+00,  0.0000000e+00,  0.0000000e+00],\n",
       "        [ 0.0000000e+00,  0.0000000e+00,  0.0000000e+00],\n",
       "        [ 0.0000000e+00,  0.0000000e+00,  0.0000000e+00]],\n",
       "\n",
       "       ...,\n",
       "\n",
       "       [[ 4.1100221e+00, -1.0346062e+00,  2.6948628e+00],\n",
       "        [ 4.3785710e+00,  6.1529484e-02,  4.8849419e-02],\n",
       "        [ 5.4806027e+00,  2.6944661e+00,  8.4980987e-02],\n",
       "        ...,\n",
       "        [ 0.0000000e+00,  0.0000000e+00,  0.0000000e+00],\n",
       "        [ 0.0000000e+00,  0.0000000e+00,  0.0000000e+00],\n",
       "        [ 0.0000000e+00,  0.0000000e+00,  0.0000000e+00]],\n",
       "\n",
       "       [[ 1.8003232e+00, -6.9693103e-02, -2.2911039e-01],\n",
       "        [ 4.6702313e+00,  2.4490850e-02,  1.9105131e-02],\n",
       "        [ 5.8963237e+00, -2.3141775e+00, -1.0460957e+00],\n",
       "        ...,\n",
       "        [ 0.0000000e+00,  0.0000000e+00,  0.0000000e+00],\n",
       "        [ 0.0000000e+00,  0.0000000e+00,  0.0000000e+00],\n",
       "        [ 0.0000000e+00,  0.0000000e+00,  0.0000000e+00]],\n",
       "\n",
       "       [[ 3.5317659e+00,  2.5823107e-01, -1.3524770e+00],\n",
       "        [ 3.4395094e+00, -2.4942495e-01,  1.4351336e+00],\n",
       "        [ 1.0076776e+00,  1.2132042e-02, -4.0723599e-02],\n",
       "        ...,\n",
       "        [ 0.0000000e+00,  0.0000000e+00,  0.0000000e+00],\n",
       "        [ 0.0000000e+00,  0.0000000e+00,  0.0000000e+00],\n",
       "        [ 0.0000000e+00,  0.0000000e+00,  0.0000000e+00]]], dtype=float32)"
      ]
     },
     "execution_count": 239,
     "metadata": {},
     "output_type": "execute_result"
    }
   ],
   "source": [
    "df['R']  #3d Coordinates of each atom in each molecule"
   ]
  },
  {
   "cell_type": "code",
   "execution_count": 240,
   "id": "020af883",
   "metadata": {},
   "outputs": [
    {
     "data": {
      "text/plain": [
       "(7165, 23, 3)"
      ]
     },
     "execution_count": 240,
     "metadata": {},
     "output_type": "execute_result"
    }
   ],
   "source": [
    "df['R'].shape"
   ]
  },
  {
   "cell_type": "code",
   "execution_count": 241,
   "id": "62f1c5e1",
   "metadata": {},
   "outputs": [
    {
     "data": {
      "text/plain": [
       "array([[6., 1., 1., ..., 0., 0., 0.],\n",
       "       [6., 6., 1., ..., 0., 0., 0.],\n",
       "       [6., 6., 1., ..., 0., 0., 0.],\n",
       "       ...,\n",
       "       [6., 6., 6., ..., 0., 0., 0.],\n",
       "       [6., 6., 6., ..., 0., 0., 0.],\n",
       "       [6., 6., 6., ..., 0., 0., 0.]], dtype=float32)"
      ]
     },
     "execution_count": 241,
     "metadata": {},
     "output_type": "execute_result"
    }
   ],
   "source": [
    "df['Z']"
   ]
  },
  {
   "cell_type": "code",
   "execution_count": 242,
   "id": "1257d70e",
   "metadata": {},
   "outputs": [
    {
     "data": {
      "text/plain": [
       "(7165, 23)"
      ]
     },
     "execution_count": 242,
     "metadata": {},
     "output_type": "execute_result"
    }
   ],
   "source": [
    "df['Z'].shape # for each molecule and atom of the molecule the corresponding atomic number"
   ]
  },
  {
   "cell_type": "markdown",
   "id": "0609008d",
   "metadata": {},
   "source": [
    "Z: This is a 2D array of size 7165×23. It contains the atomic numbers for each atom in each molecule. The atomic numbers represent the type of atom:\n",
    "\n",
    "1: Hydrogen (H)<br>\n",
    "6: Carbon (C)<br>\n",
    "7: Nitrogen (N)<br>\n",
    "8: Oxygen (O)<br>\n",
    "16: Sulfur (S)<br>\n",
    "0: No atom at this position<br>"
   ]
  },
  {
   "cell_type": "code",
   "execution_count": 243,
   "id": "bccbdc48",
   "metadata": {},
   "outputs": [
    {
     "data": {
      "text/plain": [
       "array([[ -417.96,  -712.42,  -564.21, ..., -1662.1 , -1782.01, -1919.  ]],\n",
       "      dtype=float32)"
      ]
     },
     "execution_count": 243,
     "metadata": {},
     "output_type": "execute_result"
    }
   ],
   "source": [
    "df['T']"
   ]
  },
  {
   "cell_type": "code",
   "execution_count": 244,
   "id": "4a8debbc",
   "metadata": {},
   "outputs": [
    {
     "data": {
      "text/plain": [
       "(1, 7165)"
      ]
     },
     "execution_count": 244,
     "metadata": {},
     "output_type": "execute_result"
    }
   ],
   "source": [
    "df['T'].shape"
   ]
  },
  {
   "cell_type": "markdown",
   "id": "0a34dcdc",
   "metadata": {},
   "source": [
    "T: This is a 1D array of size 7165. It contains the atomization energies for each molecule, which have been computed via quantum-chemical simulations."
   ]
  },
  {
   "cell_type": "code",
   "execution_count": 245,
   "id": "21be7701",
   "metadata": {},
   "outputs": [],
   "source": [
    "R = df['R']  # 3D coordinates of atoms\n",
    "Z = df['Z']  # Atomic numbers , H, C, N numberings\n",
    "T = df['T'].flatten()  # Atomization energies"
   ]
  },
  {
   "cell_type": "code",
   "execution_count": 246,
   "id": "779d4a89",
   "metadata": {},
   "outputs": [
    {
     "data": {
      "text/plain": [
       "array([[6., 1., 1., ..., 0., 0., 0.],\n",
       "       [6., 6., 1., ..., 0., 0., 0.],\n",
       "       [6., 6., 1., ..., 0., 0., 0.],\n",
       "       ...,\n",
       "       [6., 6., 6., ..., 0., 0., 0.],\n",
       "       [6., 6., 6., ..., 0., 0., 0.],\n",
       "       [6., 6., 6., ..., 0., 0., 0.]], dtype=float32)"
      ]
     },
     "execution_count": 246,
     "metadata": {},
     "output_type": "execute_result"
    }
   ],
   "source": [
    "Z"
   ]
  },
  {
   "cell_type": "markdown",
   "id": "50076e58",
   "metadata": {},
   "source": [
    "### 1.1 Visualizing Molecules"
   ]
  },
  {
   "cell_type": "code",
   "execution_count": 247,
   "id": "e6af98de",
   "metadata": {},
   "outputs": [],
   "source": [
    "atomic_symbols = {\n",
    "    1: 'H',\n",
    "    6: 'C',\n",
    "    7: 'N',\n",
    "    8: 'O',\n",
    "    16: 'S'\n",
    "}"
   ]
  },
  {
   "cell_type": "code",
   "execution_count": 248,
   "id": "2622aa6d",
   "metadata": {},
   "outputs": [],
   "source": [
    "def visualize_molecule(coordinates, atom_types, atomic_symbols, idx, threshold):\n",
    "    #idx - the index of molecule\n",
    "    atomic_numbers = atom_types[idx]\n",
    "    coordinates = coordinates[idx]\n",
    "\n",
    "    # Filtering out atoms that are not present (atomic number= 0)\n",
    "    is_present = atomic_numbers > 0\n",
    "    coordinates = coordinates[is_present]\n",
    "    # Extracting xy-coordinates\n",
    "    xy_coordinates = coordinates[:, :2]\n",
    "    distances = distance_matrix(xy_coordinates, xy_coordinates)\n",
    "    \n",
    "    atomic_numbers_for_mol = atomic_numbers[is_present]\n",
    "    # Mapping atomic numbers to symbols\n",
    "    atomic_symbols_for_mol = [atomic_symbols[num] for num in atomic_numbers_for_mol]\n",
    "\n",
    "    plt.figure(figsize=(15, 12))\n",
    "    plt.scatter(xy_coordinates[:, 0], xy_coordinates[:, 1], c='b', marker='o')\n",
    "\n",
    "    # Annotating points with atomic symbols for clarity\n",
    "    for j, (x, y) in enumerate(xy_coordinates):\n",
    "        plt.text(x, y, atomic_symbols_for_mol[j], fontsize=24, horizontalalignment='left')\n",
    "\n",
    "    # Drawing lines between pairs of atoms in molecule having distance below the threshold\n",
    "    for j in range(len(xy_coordinates)):\n",
    "        for k in range(j + 1, len(xy_coordinates)):\n",
    "            if distances[j, k] < threshold:\n",
    "                plt.plot([xy_coordinates[j, 0], xy_coordinates[k, 0]], \n",
    "                         [xy_coordinates[j, 1], xy_coordinates[k, 1]], \n",
    "                         'r-', lw=1)\n",
    "\n",
    "    plt.xlabel('X')\n",
    "    plt.ylabel('Y')\n",
    "    plt.title('Molecule Visualization')\n",
    "    plt.show()\n",
    "\n"
   ]
  },
  {
   "cell_type": "code",
   "execution_count": 249,
   "id": "e416a266",
   "metadata": {},
   "outputs": [
    {
     "data": {
      "image/png": "[encoded data removed]",
      "text/plain": [
       "<Figure size 1080x864 with 1 Axes>"
      ]
     },
     "metadata": {
      "needs_background": "light"
     },
     "output_type": "display_data"
    }
   ],
   "source": [
    "th=5\n",
    "idx=2\n",
    "visualize_molecule(R, Z, atomic_symbols, idx, th)"
   ]
  },
  {
   "cell_type": "code",
   "execution_count": 250,
   "id": "af562676",
   "metadata": {},
   "outputs": [],
   "source": [
    "def plot_single_molecule(coordinates, atom_types, idx, threshold):\n",
    "    coordinates = coordinates[idx]\n",
    "    atomic_numbers = atom_types[idx]\n",
    "\n",
    "    is_present = atomic_numbers > 0\n",
    "    coordinates = coordinates[is_present]\n",
    "    atomic_numbers = atomic_numbers[is_present]\n",
    "\n",
    "    fig = plt.figure(figsize=(12, 8))\n",
    "    ax = fig.add_subplot(111, projection='3d')\n",
    "    ax.scatter(coordinates[:, 0], coordinates[:, 1], coordinates[:, 2], s=100, alpha=0.5, edgecolors='b')\n",
    "    \n",
    "    #Calculating distances between atoms within mol and \n",
    "    #drawing bonds between atoms that are within the threshold distance.\n",
    "    dist = distance_matrix(coordinates, coordinates)\n",
    "    for i in range(len(coordinates)):\n",
    "        for j in range(i + 1, len(coordinates)):\n",
    "            if dist[i, j] < threshold:\n",
    "                ax.plot([coordinates[i, 0], coordinates[j, 0]], \n",
    "                        [coordinates[i, 1], coordinates[j, 1]], \n",
    "                        [coordinates[i, 2], coordinates[j, 2]], color='r')\n",
    "\n",
    "    # Annotate atoms with atomic symbols\n",
    "    for i, (x, y, z) in enumerate(coordinates):\n",
    "        ax.text(x, y, z, atomic_symbols[atomic_numbers[i]], fontsize=12)\n",
    "\n",
    "    ax.set_xlabel('X')\n",
    "    ax.set_ylabel('Y')\n",
    "    ax.set_zlabel('Z')\n",
    "    ax.set_title(f'Molecule at index {idx}')\n",
    "    plt.show()"
   ]
  },
  {
   "cell_type": "code",
   "execution_count": 251,
   "id": "4aae37e0",
   "metadata": {},
   "outputs": [
    {
     "data": {
      "image/png": "[encoded data removed]",
      "text/plain": [
       "<Figure size 864x576 with 1 Axes>"
      ]
     },
     "metadata": {
      "needs_background": "light"
     },
     "output_type": "display_data"
    }
   ],
   "source": [
    "idx = 2\n",
    "thr = 5\n",
    "plot_single_molecule(R, Z, idx, thr)"
   ]
  },
  {
   "cell_type": "markdown",
   "id": "88bb8eff",
   "metadata": {},
   "source": [
    "### 2. Data Representation, ML Model and Explanations"
   ]
  },
  {
   "cell_type": "markdown",
   "id": "74a3f94d",
   "metadata": {},
   "source": [
    "**Data Preparation**:\n",
    "   - Each molecule is represented by summing the one-hot encoded vectors of its constituent atoms.\n",
    "   - The dataset is centered by subtracting the mean of the features and the target values."
   ]
  },
  {
   "cell_type": "code",
   "execution_count": 257,
   "id": "e2922bb7",
   "metadata": {},
   "outputs": [
    {
     "data": {
      "text/plain": [
       "array([ 1,  6,  7,  8, 16])"
      ]
     },
     "execution_count": 257,
     "metadata": {},
     "output_type": "execute_result"
    }
   ],
   "source": [
    "# Atomic number to one-hot vector mapping\n",
    "#atomic_numbers = [1, 6, 7, 8, 16]\n",
    "atomic_numbers=np.array(list(atomic_symbols.keys()))\n",
    "atomic_numbers"
   ]
  },
  {
   "cell_type": "code",
   "execution_count": 267,
   "id": "91a2f2c8",
   "metadata": {},
   "outputs": [],
   "source": [
    "# converting atoms to one-hot vectors and summing one-hot vectors for each molecule\n",
    "def get_molecule_representation(molecule):\n",
    "    def one_hot_encode(num_atom):\n",
    "        one_hot_vector = np.zeros(len(atomic_numbers))\n",
    "        if num_atom>0:\n",
    "            #getting the index for atomic element (H, C, N, S, O)\n",
    "            one_hot_vector[np.where(atomic_numbers==num_atom)] = 1\n",
    "        return one_hot_vector\n",
    "\n",
    "    molecule_representation = np.zeros(len(atomic_numbers))\n",
    "    for atom_number in molecule:\n",
    "        molecule_representation += one_hot_encode(atom_number)\n",
    "    return molecule_representation\n"
   ]
  },
  {
   "cell_type": "code",
   "execution_count": 268,
   "id": "1a42a03b",
   "metadata": {},
   "outputs": [
    {
     "data": {
      "text/plain": [
       "array([6., 6., 1., 1., 1., 1., 1., 1., 0., 0., 0., 0., 0., 0., 0., 0., 0.,\n",
       "       0., 0., 0., 0., 0., 0.], dtype=float32)"
      ]
     },
     "execution_count": 268,
     "metadata": {},
     "output_type": "execute_result"
    }
   ],
   "source": [
    "Z[1]"
   ]
  },
  {
   "cell_type": "code",
   "execution_count": 269,
   "id": "b19eb696",
   "metadata": {},
   "outputs": [
    {
     "name": "stdout",
     "output_type": "stream",
     "text": [
      "[6. 2. 0. 0. 0.]\n"
     ]
    }
   ],
   "source": [
    "#testing for molecule at idx=1\n",
    "print(get_molecule_representation(Z[1]))"
   ]
  },
  {
   "cell_type": "code",
   "execution_count": 262,
   "id": "2c319f01",
   "metadata": {},
   "outputs": [],
   "source": [
    "X = np.array([get_molecule_representation(Z[i]) for i in range(Z.shape[0])])\n",
    "y = T"
   ]
  },
  {
   "cell_type": "code",
   "execution_count": 263,
   "id": "31fd6e05",
   "metadata": {},
   "outputs": [
    {
     "data": {
      "text/plain": [
       "array([[ 4.,  1.,  0.,  0.,  0.],\n",
       "       [ 6.,  2.,  0.,  0.,  0.],\n",
       "       [ 4.,  2.,  0.,  0.,  0.],\n",
       "       ...,\n",
       "       [ 9.,  6.,  1.,  0.,  0.],\n",
       "       [10.,  7.,  0.,  0.,  0.],\n",
       "       [12.,  7.,  0.,  0.,  0.]])"
      ]
     },
     "execution_count": 263,
     "metadata": {},
     "output_type": "execute_result"
    }
   ],
   "source": [
    "X"
   ]
  },
  {
   "cell_type": "code",
   "execution_count": 264,
   "id": "caf329bc",
   "metadata": {},
   "outputs": [
    {
     "name": "stdout",
     "output_type": "stream",
     "text": [
      "(7165, 5) (7165,)\n"
     ]
    }
   ],
   "source": [
    "print(X.shape, y.shape)"
   ]
  },
  {
   "cell_type": "code",
   "execution_count": 265,
   "id": "72e7d190",
   "metadata": {},
   "outputs": [
    {
     "data": {
      "text/plain": [
       "(-2192.0, -404.88)"
      ]
     },
     "execution_count": 265,
     "metadata": {},
     "output_type": "execute_result"
    }
   ],
   "source": [
    "min(y), max(y)"
   ]
  },
  {
   "cell_type": "code",
   "execution_count": null,
   "id": "f6876bbe",
   "metadata": {},
   "outputs": [],
   "source": []
  },
  {
   "cell_type": "markdown",
   "id": "7ec3af4d",
   "metadata": {},
   "source": [
    "##### Stratified K-Fold Cross-Validation for Model Selection and Evaluation\n",
    "\n",
    "In the modelling part, we applied stratified 5-fold cross-validation to ensure that each fold contains a representative set of atomization energies. This technique reduces the variance of the estimator of the test error, providing a more reliable estimate of model performance. The stratification method follows the approach presented in Rupp et al. ([PhysRevLett.108.058301](https://link.aps.org/accepted/10.1103/PhysRevLett.108.058301)), where molecules are grouped into buckets based on their atomization energies, ensuring an even distribution of target values across folds.\n",
    "\n",
    "\n",
    "\n",
    "This method is particularly important when dealing with datasets where the target variable has a wide range or is imbalanced. By maintaining the distribution of atomization energies across folds, stratified k-fold cross-validation helps to:\n",
    "- Prevent overfitting\n",
    "-Avoids overly optimistic error estimates. i.e provide a more accurate and reliable assessment of the model's generalization performance.\n",
    "- Reduce the variance of the performance estimate.\n",
    "\n",
    "\n",
    "For stratification, we carried out:\n",
    "1. **Bucket Creation**: Molecules are splitted into buckets, each containing five molecules, sorted by their atomization energy.   \n",
    "\n",
    "2. **Stratified Sampling**: The data is split into k folds, and then.  The buckets are then randomly shuffled, and each fold receives one element from each bucket. This ensures that each fold is a representative sample of the overall distribution."
   ]
  },
  {
   "cell_type": "code",
   "execution_count": 218,
   "id": "940f6e3a",
   "metadata": {},
   "outputs": [],
   "source": [
    "bucket_size=5\n",
    "sorted_indices = np.argsort(y)\n",
    "buckets = [sorted_indices[i:i + bucket_size] for i in range(0, len(y), bucket_size)]"
   ]
  },
  {
   "cell_type": "code",
   "execution_count": 219,
   "id": "25bfb660",
   "metadata": {},
   "outputs": [
    {
     "data": {
      "text/plain": [
       "1433"
      ]
     },
     "execution_count": 219,
     "metadata": {},
     "output_type": "execute_result"
    }
   ],
   "source": [
    "len(buckets)"
   ]
  },
  {
   "cell_type": "code",
   "execution_count": 220,
   "id": "23adc9b7",
   "metadata": {},
   "outputs": [],
   "source": [
    "# Stratified K-Fold sampling\n",
    "# Assigns one molecule from each bucket to each fold, \n",
    "#ensuring that each fold contains a representative sample of the overall distribution\n",
    "\n",
    "def stratified_k_fold(buckets, n_splits=5, random_state=None):\n",
    "    if random_state is not None:\n",
    "        np.random.seed(random_state)\n",
    "\n",
    "    # Initializing empty folds\n",
    "    folds = [[] for _ in range(n_splits)]\n",
    "    \n",
    "    # Distributing one molecule from each bucket to each fold\n",
    "    for bucket in buckets:\n",
    "        np.random.shuffle(bucket)  # Shuffling the molecules within each bucket for ensuring randomness\n",
    "        for i, molecule in enumerate(bucket):\n",
    "            fold_idx = i % n_splits\n",
    "            folds[fold_idx].append(molecule)\n",
    "    \n",
    "    return folds"
   ]
  },
  {
   "cell_type": "markdown",
   "id": "a61081f8",
   "metadata": {},
   "source": [
    "**Nested Cross-Validation**\n",
    "\n",
    "**Outer Loop**\n",
    "\n",
    "The outer loop of the nested cross-validation procedure is responsible for evaluating the model's performance:\n",
    "\n",
    "1. **Data Splitting**:\n",
    "   - The data is split into k=5 stratified folds.\n",
    "   - In each iteration, one fold is set aside as the test set, and the remaining k-1=4 folds are used for training and validation.\n",
    "\n",
    "2. **Model Training and Validation**:\n",
    "   - The training and validation process is carried out within the inner loop (described below) to select the best  lambda.\n",
    "   - Once the best lambda is determined, a final model is trained on the combined training and validation set using this lambda.\n",
    "\n",
    "3. **Model Evaluation**:\n",
    "   - The final model is evaluated on the test set.\n",
    "   - Performance metrics (RMSE and MAE) are recorded.\n",
    "\n",
    "This process is repeated for each of the 5 outer folds, ensuring that each fold is used as the test set exactly once.\n",
    "\n",
    "4. **Performance Metrics Calculation**:\n",
    "   - The root mean squared error (RMSE) and mean absolute error (MAE) are calculated for each outer fold.\n",
    "   - The mean and standard deviation of these metrics across all outer folds are reported as the final performance measures. Measures include the average and the variability of the performance metrics (RMSE, MAE) across all outer folds\n",
    "    \n",
    "**Inner Loop**\n",
    "\n",
    "The inner loop is nested within each iteration of the outer loop and is responsible for hyperparameter tuning:\n",
    "\n",
    "1. **Hyperparameter Candidates**:\n",
    "   - A range of candidate values for the hyperparameter lambda is defined (using a logarithmic scale from 10^-10 to 10^10).\n",
    "\n",
    "2. **Inner Data Splitting**:\n",
    "   - The training+validation data from the outer loop is further split into 4 folds.\n",
    "\n",
    "3. **Hyperparameter Evaluation**:\n",
    "   - For each candidate lambda, the model is trained on 3 folds and validated on the remaining fold.\n",
    "   - This process is repeated 4 times, with each fold being used as the validation set once.\n",
    "   - The mean absolute error (MAE) is calculated for each validation set and averaged across the 4 folds.\n"
   ]
  },
  {
   "cell_type": "code",
   "execution_count": 230,
   "id": "0df65231",
   "metadata": {},
   "outputs": [],
   "source": [
    "#for inner loop\n",
    "def select_best_lambda_kfold(X_train_val, y_train_val, lambdas, k):\n",
    "    best_lambda = None\n",
    "    best_mae = float('inf')\n",
    "    lambda_scores = {l: [] for l in lambdas}\n",
    "    inner_kf = KFold(n_splits=k, shuffle=True, random_state=random_state)\n",
    "\n",
    "    for l in lambdas:\n",
    "        mae_scores = []\n",
    "\n",
    "        for train_index, val_index in inner_kf.split(X_train_val):\n",
    "            X_train, X_val = X_train_val[train_index], X_train_val[val_index]\n",
    "            y_train, y_val = y_train_val[train_index], y_train_val[val_index]\n",
    "            \n",
    "            mean_X_train=X_train.mean(axis=0)\n",
    "            X_train=X_train-mean_X_train\n",
    "            X_val=X_val-mean_X_train\n",
    "            mean_y_train=y_train.mean()\n",
    "            y_train=y_train -mean_y_train\n",
    "            y_val=y_val - mean_y_train\n",
    "            \n",
    "\n",
    "            ridge_reg = Ridge(alpha=l)\n",
    "            ridge_reg.fit(X_train, y_train)\n",
    "            y_pred_val = ridge_reg.predict(X_val)\n",
    "            mae_val = mean_absolute_error(y_val, y_pred_val)\n",
    "            mae_scores.append(mae_val)\n",
    "\n",
    "        lambda_scores[l].append(np.mean(mae_scores))\n",
    "\n",
    "    # Select the lambda that performs best in the majority of the inner folds\n",
    "    best_lambda = min(lambda_scores, key=lambda l: np.mean(lambda_scores[l]))\n",
    "    best_mae = np.mean(lambda_scores[best_lambda])\n",
    "\n",
    "    return best_lambda, best_mae"
   ]
  },
  {
   "cell_type": "code",
   "execution_count": 231,
   "id": "e9a07f88",
   "metadata": {},
   "outputs": [],
   "source": [
    "# cross-validation parameters\n",
    "outer_k = 5\n",
    "inner_k = outer_k-1\n",
    "lambdas = np.logspace(-5, 5, 200)\n",
    "random_state = 42\n",
    "\n",
    "# Outer loop\n",
    "outer_folds = stratified_k_fold(buckets, n_splits=outer_k, random_state=random_state)\n",
    "outer_rmse_scores = []\n",
    "outer_mae_scores = []"
   ]
  },
  {
   "cell_type": "code",
   "execution_count": 232,
   "id": "5050abbb",
   "metadata": {},
   "outputs": [
    {
     "name": "stdout",
     "output_type": "stream",
     "text": [
      "5 1433\n"
     ]
    }
   ],
   "source": [
    "print(len(outer_folds), len(outer_folds[0]))"
   ]
  },
  {
   "cell_type": "code",
   "execution_count": 233,
   "id": "0133f9e2",
   "metadata": {},
   "outputs": [
    {
     "name": "stdout",
     "output_type": "stream",
     "text": [
      "(5732, 5) (1433, 5)\n",
      "(5732, 5) (1433, 5)\n",
      "(5732, 5) (1433, 5)\n",
      "(5732, 5) (1433, 5)\n",
      "(5732, 5) (1433, 5)\n"
     ]
    }
   ],
   "source": [
    "#new\n",
    "best_lambda_per_fold = []\n",
    "for fold in outer_folds:\n",
    "    test_index = np.array(fold)\n",
    "    train_val_index = np.setdiff1d(np.arange(len(X)), test_index)\n",
    "    \n",
    "    X_train_val, X_test = X[train_val_index], X[test_index]\n",
    "    print(X_train_val.shape, X_test.shape)\n",
    "    y_train_val, y_test = y[train_val_index], y[test_index]\n",
    "    \n",
    "\n",
    "    # Inner loop to select the best lambda\n",
    "    best_lambda, best_mae = select_best_lambda_kfold(X_train_val, y_train_val, lambdas, 5)\n",
    "    best_lambda_per_fold.append((best_lambda, best_mae))\n",
    "    \n",
    "    # final model with the best lambda on the entire training + validation set\n",
    "    ridge_reg = Ridge(alpha=best_lambda)\n",
    "    \n",
    "    \n",
    "    mean_X_train_val= X_train_val.mean(axis=0)\n",
    "    X_train_val=X_train_val-mean_X_train_val\n",
    "    X_test=X_test-mean_X_train_val\n",
    "    \n",
    "    mean_y_train_val=y_train_val.mean()\n",
    "    y_train_val = y_train_val - mean_y_train_val\n",
    "    y_test = y_test - mean_y_train_val\n",
    "    \n",
    "    ridge_reg.fit(X_train_val, y_train_val)\n",
    "\n",
    "    #  on the test set valid\n",
    "    y_pred_test = ridge_reg.predict(X_test)\n",
    "\n",
    "    #  RMSE and MAE for this outer loop\n",
    "    rmse_test = mean_squared_error(y_test, y_pred_test, squared=False)\n",
    "    mae_test = mean_absolute_error(y_test, y_pred_test)\n",
    "    outer_rmse_scores.append(rmse_test)\n",
    "    outer_mae_scores.append(mae_test)"
   ]
  },
  {
   "cell_type": "code",
   "execution_count": 234,
   "id": "fc424de2",
   "metadata": {},
   "outputs": [
    {
     "name": "stdout",
     "output_type": "stream",
     "text": [
      "RMSE on Test Set: 20.18 ± 0.39\n",
      "MAE on Test Set: 15.70 ± 0.13\n"
     ]
    }
   ],
   "source": [
    "# Calculating mean and standard deviation of RMSE and MAE across outer folds\n",
    "mean_rmse = np.mean(outer_rmse_scores)\n",
    "std_rmse = np.std(outer_rmse_scores)\n",
    "mean_mae = np.mean(outer_mae_scores)\n",
    "std_mae = np.std(outer_mae_scores)\n",
    "\n",
    "print(f\"RMSE on Test Set: {mean_rmse:.2f} ± {std_rmse:.2f}\")\n",
    "print(f\"MAE on Test Set: {mean_mae:.2f} ± {std_mae:.2f}\")\n"
   ]
  },
  {
   "cell_type": "code",
   "execution_count": 235,
   "id": "eb5ae40c",
   "metadata": {},
   "outputs": [
    {
     "data": {
      "text/plain": [
       "[19.91069370322136,\n",
       " 20.326067897863,\n",
       " 20.82726746304304,\n",
       " 20.165192518440772,\n",
       " 19.676315184973127]"
      ]
     },
     "execution_count": 235,
     "metadata": {},
     "output_type": "execute_result"
    }
   ],
   "source": [
    "outer_rmse_scores"
   ]
  },
  {
   "cell_type": "code",
   "execution_count": 236,
   "id": "9f41896f",
   "metadata": {},
   "outputs": [
    {
     "data": {
      "text/plain": [
       "[15.55120415552206,\n",
       " 15.787383144675783,\n",
       " 15.879296416292712,\n",
       " 15.737314651221059,\n",
       " 15.550504946064537]"
      ]
     },
     "execution_count": 236,
     "metadata": {},
     "output_type": "execute_result"
    }
   ],
   "source": [
    "outer_mae_scores"
   ]
  },
  {
   "cell_type": "code",
   "execution_count": 110,
   "id": "eade8853",
   "metadata": {},
   "outputs": [],
   "source": [
    "# Final model training on the entire dataset using the best lambda\n",
    "#final_best_lambda = np.mean(best_lambdas)\n",
    "#ridge_reg_final = Ridge(alpha=final_best_lambda)\n",
    "#ridge_reg_final.fit(X_cent, y_cent)"
   ]
  },
  {
   "cell_type": "code",
   "execution_count": 111,
   "id": "f1030d7d",
   "metadata": {},
   "outputs": [],
   "source": [
    "#  final weight coefficients\n",
    "#w = ridge_reg_final.coef_\n",
    "#print(f\"Final weight coefficients: {w}\")"
   ]
  },
  {
   "cell_type": "code",
   "execution_count": 112,
   "id": "6ceafd2a",
   "metadata": {},
   "outputs": [],
   "source": [
    "best_lambda_final = best_lambda_per_fold[np.argmin(outer_rmse_scores)][0]"
   ]
  },
  {
   "cell_type": "code",
   "execution_count": 113,
   "id": "ea74c86d",
   "metadata": {},
   "outputs": [
    {
     "data": {
      "text/plain": [
       "1e-05"
      ]
     },
     "execution_count": 113,
     "metadata": {},
     "output_type": "execute_result"
    }
   ],
   "source": [
    "best_lambda_final"
   ]
  },
  {
   "cell_type": "code",
   "execution_count": 114,
   "id": "6796c948",
   "metadata": {},
   "outputs": [
    {
     "name": "stdout",
     "output_type": "stream",
     "text": [
      "Final weight coefficients: [ -68.75672598 -157.49050258 -102.55968775 -101.45620621  -80.49403017]\n"
     ]
    }
   ],
   "source": [
    "# Final model training on the entire dataset using the best lambda\n",
    "ridge_reg_final = Ridge(alpha=best_lambda_final)\n",
    "ridge_reg_final.fit(X_cent, y_cent)\n",
    "w = ridge_reg_final.coef_\n",
    "print(f\"Final weight coefficients: {w}\")"
   ]
  },
  {
   "cell_type": "markdown",
   "id": "b3d352d0",
   "metadata": {},
   "source": [
    "### XAI on Simple atom-based model"
   ]
  },
  {
   "cell_type": "code",
   "execution_count": 115,
   "id": "15a46c49",
   "metadata": {},
   "outputs": [],
   "source": [
    "#change it molecule based explanation\n",
    "def explain_prediction(molecule_idx, w):\n",
    "    #getting the feature vector representation for molecule at idx\n",
    "    molecule_representation = get_molecule_representation(Z[molecule_idx])\n",
    "    explanations = {}\n",
    "    for i, atom_type in enumerate(atomic_numbers):\n",
    "        contribution = w[i] * molecule_representation[i]\n",
    "        explanations[atom_type] = contribution\n",
    "    return explanations\n"
   ]
  },
  {
   "cell_type": "code",
   "execution_count": 116,
   "id": "e0b767a2",
   "metadata": {},
   "outputs": [],
   "source": [
    "def plot_contributions(idx, explanations, atomic_symbols):\n",
    "    atom_labels = [atomic_symbols[atom_type] for atom_type in atomic_numbers]\n",
    "    contributions = [explanations[atom_type] for atom_type in atomic_numbers]\n",
    "\n",
    "    plt.figure(figsize=(10, 6))\n",
    "    plt.barh(atom_labels, contributions, color='red')\n",
    "    plt.xlabel('Contribution to Atomization Energy')\n",
    "    plt.ylabel('Atom Type')\n",
    "    plt.title(f'Contributions of Each Atom Type to Predicted Atomization Energy of Molecule {idx}')\n",
    "    plt.show()"
   ]
  },
  {
   "cell_type": "code",
   "execution_count": 117,
   "id": "38102244",
   "metadata": {},
   "outputs": [
    {
     "data": {
      "text/plain": [
       "{1: -481.29708183921736,\n",
       " 6: -472.47150774261513,\n",
       " 7: -102.55968774970279,\n",
       " 8: -0.0,\n",
       " 16: -0.0}"
      ]
     },
     "execution_count": 117,
     "metadata": {},
     "output_type": "execute_result"
    }
   ],
   "source": [
    "molecule_idx = 30 \n",
    "explanations = explain_prediction(molecule_idx, w)\n",
    "explanations"
   ]
  },
  {
   "cell_type": "code",
   "execution_count": 118,
   "id": "75962110",
   "metadata": {},
   "outputs": [
    {
     "data": {
      "image/png": "[encoded data removed]",
      "text/plain": [
       "<Figure size 720x432 with 1 Axes>"
      ]
     },
     "metadata": {
      "needs_background": "light"
     },
     "output_type": "display_data"
    }
   ],
   "source": [
    "# Plot the contributions\n",
    "plot_contributions(molecule_idx, explanations, atomic_symbols)"
   ]
  },
  {
   "cell_type": "markdown",
   "id": "ceb9ebb2",
   "metadata": {},
   "source": [
    "Ref to use: The negative contributions can be interpreted as the atoms' tendency to stabilize the molecule. When atoms form bonds, they achieve a lower energy state compared to when they are free. The more negative the contribution, the more the atom helps in stabilizing the molecule."
   ]
  },
  {
   "cell_type": "code",
   "execution_count": 119,
   "id": "44748b5f",
   "metadata": {},
   "outputs": [],
   "source": [
    "def explain_prediction_normalized(molecule_idx, w):\n",
    "    molecule_representation = get_molecule_representation(Z[molecule_idx])\n",
    "    explanations = {}\n",
    "    total_contribution = np.sum(w * molecule_representation)\n",
    "    for i, atom_type in enumerate(atomic_numbers):\n",
    "        contribution = w[i] * molecule_representation[i]\n",
    "        normalized_contribution = contribution / total_contribution\n",
    "        explanations[atom_type] = normalized_contribution\n",
    "    return explanations"
   ]
  },
  {
   "cell_type": "code",
   "execution_count": 120,
   "id": "276b6389",
   "metadata": {},
   "outputs": [
    {
     "data": {
      "text/plain": [
       "{1: 0.45563210998673215,\n",
       " 6: 0.4472771560524333,\n",
       " 7: 0.09709073396083459,\n",
       " 8: 0.0,\n",
       " 16: 0.0}"
      ]
     },
     "execution_count": 120,
     "metadata": {},
     "output_type": "execute_result"
    }
   ],
   "source": [
    "molecule_idx = 30 \n",
    "explanations = explain_prediction_normalized(molecule_idx, w)\n",
    "explanations"
   ]
  },
  {
   "cell_type": "code",
   "execution_count": 121,
   "id": "b35ec3b7",
   "metadata": {},
   "outputs": [
    {
     "data": {
      "image/png": "[encoded data removed]",
      "text/plain": [
       "<Figure size 720x432 with 1 Axes>"
      ]
     },
     "metadata": {
      "needs_background": "light"
     },
     "output_type": "display_data"
    }
   ],
   "source": [
    "# Plot the normalized contributions\n",
    "plot_contributions(molecule_idx, explanations, atomic_symbols)"
   ]
  },
  {
   "cell_type": "markdown",
   "id": "2518b5d2",
   "metadata": {},
   "source": [
    "### Decomposition in terms of pairs of atoms "
   ]
  },
  {
   "cell_type": "markdown",
   "id": "f2032b3b",
   "metadata": {},
   "source": [
    "Considering mutual distance between atoms, we need to find bin range first."
   ]
  },
  {
   "cell_type": "code",
   "execution_count": 53,
   "id": "9dccd6e1",
   "metadata": {},
   "outputs": [],
   "source": [
    "def distance_range(R, Z):\n",
    "    distances = []\n",
    "    for i in range(len(R)):\n",
    "        coordinates = R[i]\n",
    "        atomic_numbers = Z[i]\n",
    "        filtered_coordinates = coordinates[atomic_numbers > 0]  # Filtering out non-existent atoms\n",
    "        \n",
    "        # Calculatingg the distance matrix for the filtered coordinates\n",
    "        dist_matrix = distance_matrix(filtered_coordinates, filtered_coordinates)\n",
    "        \n",
    "        # Extracting the upper triangular part of the distance matrix\n",
    "        #to avoid redundant calculations and exclude the diagonal.\n",
    "        dist_upper_tri = dist_matrix[np.triu_indices_from(dist_matrix, k=1)]\n",
    "        distances.extend(dist_upper_tri) #concatenatin elements\n",
    "        \n",
    "    return np.array(distances)"
   ]
  },
  {
   "cell_type": "code",
   "execution_count": 54,
   "id": "552d7e7e",
   "metadata": {},
   "outputs": [
    {
     "name": "stdout",
     "output_type": "stream",
     "text": [
      "Min distance: 1.8265360620743547, Max distance: 18.717450675317142\n"
     ]
    }
   ],
   "source": [
    "pair_distances = distance_range(R, Z)\n",
    "\n",
    "# Finding the min and max distances\n",
    "min_dist, max_dist = np.min(pair_distances), np.max(pair_distances)\n",
    "print(f\"Min distance: {min_dist}, Max distance: {max_dist}\")"
   ]
  },
  {
   "cell_type": "code",
   "execution_count": 55,
   "id": "b2ec6a95",
   "metadata": {},
   "outputs": [
    {
     "data": {
      "text/plain": [
       "(array([140953, 238829, 177772, 142337,  78529,  30987,  11923,   2778,\n",
       "           641,     34]),\n",
       " array([ 1.82653606,  3.51562752,  5.20471898,  6.89381045,  8.58290191,\n",
       "        10.27199337, 11.96108483, 13.65017629, 15.33926775, 17.02835921,\n",
       "        18.71745068]))"
      ]
     },
     "execution_count": 55,
     "metadata": {},
     "output_type": "execute_result"
    }
   ],
   "source": [
    "np.histogram(pair_distances, bins=10)"
   ]
  },
  {
   "cell_type": "code",
   "execution_count": 56,
   "id": "78eacceb",
   "metadata": {},
   "outputs": [
    {
     "data": {
      "image/png": "[encoded data removed]",
      "text/plain": [
       "<Figure size 1080x720 with 1 Axes>"
      ]
     },
     "metadata": {
      "needs_background": "light"
     },
     "output_type": "display_data"
    }
   ],
   "source": [
    "plt.figure(figsize=(15, 10))\n",
    "plt.hist(pair_distances, bins=10, edgecolor='black', alpha=0.7)\n",
    "plt.title(f'Distribution of pairwise distances between atoms in molecules')\n",
    "plt.grid(True)\n",
    "plt.show()"
   ]
  },
  {
   "cell_type": "code",
   "execution_count": 57,
   "id": "9038482f",
   "metadata": {},
   "outputs": [
    {
     "name": "stdout",
     "output_type": "stream",
     "text": [
      "Distance bins: [ 1.82653606  3.51562752  5.20471898  6.89381045  8.58290191 10.27199337\n",
      " 11.96108483 13.65017629 15.33926775 17.02835921 18.71745068]\n"
     ]
    }
   ],
   "source": [
    "#dividing distance into 10 bins\n",
    "distance_bins = np.linspace(min_dist, max_dist, 11)\n",
    "print(f\"Distance bins: {distance_bins}\")"
   ]
  },
  {
   "cell_type": "code",
   "execution_count": 58,
   "id": "fa3d695d",
   "metadata": {},
   "outputs": [],
   "source": [
    "bin_centers = (distance_bins[:-1] + distance_bins[1:]) / 2"
   ]
  },
  {
   "cell_type": "code",
   "execution_count": 59,
   "id": "b800fa27",
   "metadata": {},
   "outputs": [
    {
     "data": {
      "text/plain": [
       "array([ 2.67108179,  4.36017325,  6.04926472,  7.73835618,  9.42744764,\n",
       "       11.1165391 , 12.80563056, 14.49472202, 16.18381348, 17.87290494])"
      ]
     },
     "execution_count": 59,
     "metadata": {},
     "output_type": "execute_result"
    }
   ],
   "source": [
    "bin_centers"
   ]
  },
  {
   "cell_type": "markdown",
   "id": "9074f0ac",
   "metadata": {},
   "source": [
    "### Distance feature map for pairs"
   ]
  },
  {
   "cell_type": "code",
   "execution_count": 60,
   "id": "882a977b",
   "metadata": {},
   "outputs": [],
   "source": [
    "#hard indicator function\n",
    "def distance_fmap_hard(distance ,distance_bins):\n",
    "    num_bins=len(distance_bins)-1\n",
    "    features = np.zeros(num_bins)\n",
    "    for i in range(num_bins):\n",
    "        if distance_bins[i] <= distance < distance_bins[i + 1]:\n",
    "            features[i] = 1\n",
    "            break\n",
    "    return features"
   ]
  },
  {
   "cell_type": "code",
   "execution_count": 61,
   "id": "2ce3ae5b",
   "metadata": {},
   "outputs": [
    {
     "data": {
      "text/plain": [
       "array([0., 0., 0., 0., 1., 0., 0., 0., 0., 0.])"
      ]
     },
     "execution_count": 61,
     "metadata": {},
     "output_type": "execute_result"
    }
   ],
   "source": [
    "d=distance_fmap_hard(10, distance_bins)\n",
    "d"
   ]
  },
  {
   "cell_type": "code",
   "execution_count": 62,
   "id": "d31c9406",
   "metadata": {},
   "outputs": [],
   "source": [
    "#soft indicator\n",
    "def distance_fmap_soft(distance, bin_centers, sigma):\n",
    "    def gaussian(x, mu, sigma):\n",
    "        return np.exp(-((x - mu) ** 2) / (2 * sigma ** 2))\n",
    "\n",
    "    features = np.array([gaussian(distance, mu, sigma) for mu in bin_centers])\n",
    "    return features"
   ]
  },
  {
   "cell_type": "code",
   "execution_count": 63,
   "id": "b2a6ce81",
   "metadata": {},
   "outputs": [
    {
     "data": {
      "text/plain": [
       "array([2.16950726e-12, 1.23896058e-07, 4.08036207e-04, 7.74969738e-02,\n",
       "       8.48820022e-01, 5.36156180e-01, 1.95304319e-02, 4.10277034e-05,\n",
       "       4.97035486e-09, 3.47250129e-14])"
      ]
     },
     "execution_count": 63,
     "metadata": {},
     "output_type": "execute_result"
    }
   ],
   "source": [
    "distance_fmap_soft(10, bin_centers, 1)"
   ]
  },
  {
   "cell_type": "code",
   "execution_count": 64,
   "id": "641704df",
   "metadata": {},
   "outputs": [
    {
     "data": {
      "text/plain": [
       "array([0.05058714, 0.17082914, 0.42015638, 0.75263982, 0.98195282,\n",
       "       0.93308511, 0.64577183, 0.32550985, 0.11950233, 0.03195331])"
      ]
     },
     "execution_count": 64,
     "metadata": {},
     "output_type": "execute_result"
    }
   ],
   "source": [
    "distance_fmap_soft(10, bin_centers, 3)"
   ]
  },
  {
   "cell_type": "markdown",
   "id": "86602042",
   "metadata": {},
   "source": [
    "# Atom types pair representation"
   ]
  },
  {
   "cell_type": "code",
   "execution_count": 124,
   "id": "d0221bb9",
   "metadata": {},
   "outputs": [
    {
     "data": {
      "text/plain": [
       "[1, 6, 7, 8, 16]"
      ]
     },
     "execution_count": 124,
     "metadata": {},
     "output_type": "execute_result"
    }
   ],
   "source": [
    "atomic_numbers"
   ]
  },
  {
   "cell_type": "code",
   "execution_count": 125,
   "id": "08be8c30",
   "metadata": {},
   "outputs": [],
   "source": [
    "unique_pairs = [(atomic_numbers[i], atomic_numbers[j]) for i in range(len(atomic_numbers)) for j in range(i, len(atomic_numbers))]"
   ]
  },
  {
   "cell_type": "code",
   "execution_count": 126,
   "id": "70d9897f",
   "metadata": {},
   "outputs": [
    {
     "data": {
      "text/plain": [
       "[(1, 1),\n",
       " (1, 6),\n",
       " (1, 7),\n",
       " (1, 8),\n",
       " (1, 16),\n",
       " (6, 6),\n",
       " (6, 7),\n",
       " (6, 8),\n",
       " (6, 16),\n",
       " (7, 7),\n",
       " (7, 8),\n",
       " (7, 16),\n",
       " (8, 8),\n",
       " (8, 16),\n",
       " (16, 16)]"
      ]
     },
     "execution_count": 126,
     "metadata": {},
     "output_type": "execute_result"
    }
   ],
   "source": [
    "unique_pairs"
   ]
  },
  {
   "cell_type": "code",
   "execution_count": 127,
   "id": "57e47309",
   "metadata": {},
   "outputs": [
    {
     "data": {
      "text/plain": [
       "15"
      ]
     },
     "execution_count": 127,
     "metadata": {},
     "output_type": "execute_result"
    }
   ],
   "source": [
    "len(unique_pairs)"
   ]
  },
  {
   "cell_type": "code",
   "execution_count": 128,
   "id": "68babb7b",
   "metadata": {},
   "outputs": [],
   "source": [
    "def atom_type_fmap(an1, an2, unique_pairs):\n",
    "    feature = np.zeros(len(unique_pairs))\n",
    "    pair = (min(an1, an2), max(an1, an2)) \n",
    "    if pair in unique_pairs:\n",
    "        idx = unique_pairs.index(pair)\n",
    "        feature[idx] = 1\n",
    "    return feature"
   ]
  },
  {
   "cell_type": "code",
   "execution_count": 129,
   "id": "4fabb360",
   "metadata": {},
   "outputs": [
    {
     "name": "stdout",
     "output_type": "stream",
     "text": [
      "Pair (1, 1): [1. 0. 0. 0. 0. 0. 0. 0. 0. 0. 0. 0. 0. 0. 0.]\n",
      "Shape: (15,)\n",
      "Index of 1 in feature vector: [0]\n",
      "\n",
      "Pair (1, 6): [0. 1. 0. 0. 0. 0. 0. 0. 0. 0. 0. 0. 0. 0. 0.]\n",
      "Shape: (15,)\n",
      "Index of 1 in feature vector: [1]\n",
      "\n",
      "Pair (1, 7): [0. 0. 1. 0. 0. 0. 0. 0. 0. 0. 0. 0. 0. 0. 0.]\n",
      "Shape: (15,)\n",
      "Index of 1 in feature vector: [2]\n",
      "\n",
      "Pair (1, 8): [0. 0. 0. 1. 0. 0. 0. 0. 0. 0. 0. 0. 0. 0. 0.]\n",
      "Shape: (15,)\n",
      "Index of 1 in feature vector: [3]\n",
      "\n",
      "Pair (1, 16): [0. 0. 0. 0. 1. 0. 0. 0. 0. 0. 0. 0. 0. 0. 0.]\n",
      "Shape: (15,)\n",
      "Index of 1 in feature vector: [4]\n",
      "\n",
      "Pair (6, 6): [0. 0. 0. 0. 0. 1. 0. 0. 0. 0. 0. 0. 0. 0. 0.]\n",
      "Shape: (15,)\n",
      "Index of 1 in feature vector: [5]\n",
      "\n",
      "Pair (6, 7): [0. 0. 0. 0. 0. 0. 1. 0. 0. 0. 0. 0. 0. 0. 0.]\n",
      "Shape: (15,)\n",
      "Index of 1 in feature vector: [6]\n",
      "\n",
      "Pair (7, 8): [0. 0. 0. 0. 0. 0. 0. 0. 0. 0. 1. 0. 0. 0. 0.]\n",
      "Shape: (15,)\n",
      "Index of 1 in feature vector: [10]\n",
      "\n",
      "Pair (8, 16): [0. 0. 0. 0. 0. 0. 0. 0. 0. 0. 0. 0. 0. 1. 0.]\n",
      "Shape: (15,)\n",
      "Index of 1 in feature vector: [13]\n",
      "\n",
      "Pair (16, 16): [0. 0. 0. 0. 0. 0. 0. 0. 0. 0. 0. 0. 0. 0. 1.]\n",
      "Shape: (15,)\n",
      "Index of 1 in feature vector: [14]\n",
      "\n"
     ]
    }
   ],
   "source": [
    "#Testing of atom type feature map for some possible pairs\n",
    "test_pairs = [\n",
    "    (1, 1),  # H-H\n",
    "    (1, 6),  # H-C\n",
    "    (1, 7),  # H-N\n",
    "    (1, 8),  # H-O\n",
    "    (1, 16), # H-S\n",
    "    (6, 6),  # C-C\n",
    "    (6, 7),  # C-N\n",
    "    (7, 8),  # N-O\n",
    "    (8, 16), # O-S\n",
    "    (16, 16) # S-S\n",
    "]\n",
    "\n",
    "for an1, an2 in test_pairs:\n",
    "    feature_vector = atom_type_fmap(an1, an2, unique_pairs)\n",
    "    print(f\"Pair ({an1}, {an2}):\", feature_vector)\n",
    "    print(\"Shape:\", feature_vector.shape)\n",
    "    print(\"Index of 1 in feature vector:\", np.where(feature_vector == 1)[0])\n",
    "    print()\n"
   ]
  },
  {
   "cell_type": "code",
   "execution_count": 130,
   "id": "d691d027",
   "metadata": {},
   "outputs": [],
   "source": [
    "def get_molecule_representation_pairs(r, z, bin_centers,sigma,  unique_pairs):\n",
    "    molecule_representation = []\n",
    "    \n",
    "    for i in range(len(z)):\n",
    "        for j in range(i + 1, len(z)):\n",
    "            if z[i] > 0 and z[j] > 0:  # both positions have valid atoms\n",
    "                distance = np.linalg.norm(r[i] - r[j])\n",
    "                dist_fmap = distance_fmap_soft(distance, bin_centers, sigma)\n",
    "                a_type_fmap = atom_type_fmap(z[i], z[j], unique_pairs)\n",
    "                \n",
    "                #big feature map as outer product of 2 f-maps\n",
    "                combined_fmap = np.outer(dist_fmap, a_type_fmap).flatten()\n",
    "                molecule_representation.append(combined_fmap)\n",
    "    \n",
    "    #if len(molecule_representation) > 0:\n",
    "    return np.sum(molecule_representation, axis=0)\n",
    "    #else:\n",
    "        #return np.zeros(len(bin_centers) * len(unique_pairs))"
   ]
  },
  {
   "cell_type": "code",
   "execution_count": 131,
   "id": "174c9bca",
   "metadata": {
    "scrolled": true
   },
   "outputs": [
    {
     "name": "stdout",
     "output_type": "stream",
     "text": [
      "[1.73517654e+00 7.63727016e+00 0.00000000e+00 0.00000000e+00\n",
      " 0.00000000e+00 2.51987634e+00 0.00000000e+00 0.00000000e+00\n",
      " 0.00000000e+00 0.00000000e+00 0.00000000e+00 0.00000000e+00\n",
      " 0.00000000e+00 0.00000000e+00 0.00000000e+00 4.43862456e+00\n",
      " 9.91420128e+00 0.00000000e+00 0.00000000e+00 0.00000000e+00\n",
      " 2.90480810e+00 0.00000000e+00 0.00000000e+00 0.00000000e+00\n",
      " 0.00000000e+00 0.00000000e+00 0.00000000e+00 0.00000000e+00\n",
      " 0.00000000e+00 0.00000000e+00 7.84226334e+00 1.25728166e+01\n",
      " 0.00000000e+00 0.00000000e+00 0.00000000e+00 1.64093687e+00\n",
      " 0.00000000e+00 0.00000000e+00 0.00000000e+00 0.00000000e+00\n",
      " 0.00000000e+00 0.00000000e+00 0.00000000e+00 0.00000000e+00\n",
      " 0.00000000e+00 1.05205376e+01 1.03237766e+01 0.00000000e+00\n",
      " 0.00000000e+00 0.00000000e+00 4.54257920e-01 0.00000000e+00\n",
      " 0.00000000e+00 0.00000000e+00 0.00000000e+00 0.00000000e+00\n",
      " 0.00000000e+00 0.00000000e+00 0.00000000e+00 0.00000000e+00\n",
      " 1.02207714e+01 4.40135853e+00 0.00000000e+00 0.00000000e+00\n",
      " 0.00000000e+00 6.16239241e-02 0.00000000e+00 0.00000000e+00\n",
      " 0.00000000e+00 0.00000000e+00 0.00000000e+00 0.00000000e+00\n",
      " 0.00000000e+00 0.00000000e+00 0.00000000e+00 6.44750485e+00\n",
      " 9.28571021e-01 0.00000000e+00 0.00000000e+00 0.00000000e+00\n",
      " 4.09668338e-03 0.00000000e+00 0.00000000e+00 0.00000000e+00\n",
      " 0.00000000e+00 0.00000000e+00 0.00000000e+00 0.00000000e+00\n",
      " 0.00000000e+00 0.00000000e+00 2.35886464e+00 9.61544329e-02\n",
      " 0.00000000e+00 0.00000000e+00 0.00000000e+00 1.33460165e-04\n",
      " 0.00000000e+00 0.00000000e+00 0.00000000e+00 0.00000000e+00\n",
      " 0.00000000e+00 0.00000000e+00 0.00000000e+00 0.00000000e+00\n",
      " 0.00000000e+00 4.59948184e-01 4.88057557e-03 0.00000000e+00\n",
      " 0.00000000e+00 0.00000000e+00 2.13062551e-06 0.00000000e+00\n",
      " 0.00000000e+00 0.00000000e+00 0.00000000e+00 0.00000000e+00\n",
      " 0.00000000e+00 0.00000000e+00 0.00000000e+00 0.00000000e+00\n",
      " 4.55992697e-02 1.21402313e-04 0.00000000e+00 0.00000000e+00\n",
      " 0.00000000e+00 1.66685874e-08 0.00000000e+00 0.00000000e+00\n",
      " 0.00000000e+00 0.00000000e+00 0.00000000e+00 0.00000000e+00\n",
      " 0.00000000e+00 0.00000000e+00 0.00000000e+00 2.24915785e-03\n",
      " 1.47986473e-06 0.00000000e+00 0.00000000e+00 0.00000000e+00\n",
      " 6.39037989e-11 0.00000000e+00 0.00000000e+00 0.00000000e+00\n",
      " 0.00000000e+00 0.00000000e+00 0.00000000e+00 0.00000000e+00\n",
      " 0.00000000e+00 0.00000000e+00 5.46941281e-05 8.84003097e-09\n",
      " 0.00000000e+00 0.00000000e+00 0.00000000e+00 1.20057906e-13\n",
      " 0.00000000e+00 0.00000000e+00 0.00000000e+00 0.00000000e+00\n",
      " 0.00000000e+00 0.00000000e+00 0.00000000e+00 0.00000000e+00\n",
      " 0.00000000e+00 6.53326529e-07 2.58774735e-11 0.00000000e+00\n",
      " 0.00000000e+00 0.00000000e+00 1.10532772e-16 0.00000000e+00\n",
      " 0.00000000e+00 0.00000000e+00 0.00000000e+00 0.00000000e+00\n",
      " 0.00000000e+00 0.00000000e+00 0.00000000e+00 0.00000000e+00\n",
      " 3.82790020e-09 3.71215595e-14 0.00000000e+00 0.00000000e+00\n",
      " 0.00000000e+00 4.98686448e-20 0.00000000e+00 0.00000000e+00\n",
      " 0.00000000e+00 0.00000000e+00 0.00000000e+00 0.00000000e+00\n",
      " 0.00000000e+00 0.00000000e+00 0.00000000e+00 1.09947479e-11\n",
      " 2.60955707e-17 0.00000000e+00 0.00000000e+00 0.00000000e+00\n",
      " 1.10255504e-23 0.00000000e+00 0.00000000e+00 0.00000000e+00\n",
      " 0.00000000e+00 0.00000000e+00 0.00000000e+00 0.00000000e+00\n",
      " 0.00000000e+00 0.00000000e+00 1.54777539e-14 8.98966752e-21\n",
      " 0.00000000e+00 0.00000000e+00 0.00000000e+00 1.19456338e-27\n",
      " 0.00000000e+00 0.00000000e+00 0.00000000e+00 0.00000000e+00\n",
      " 0.00000000e+00 0.00000000e+00 0.00000000e+00 0.00000000e+00\n",
      " 0.00000000e+00 1.06780255e-17 1.51759785e-24 0.00000000e+00\n",
      " 0.00000000e+00 0.00000000e+00 6.34241018e-32 0.00000000e+00\n",
      " 0.00000000e+00 0.00000000e+00 0.00000000e+00 0.00000000e+00\n",
      " 0.00000000e+00 0.00000000e+00 0.00000000e+00 0.00000000e+00\n",
      " 3.61010322e-21 1.25546908e-28 0.00000000e+00 0.00000000e+00\n",
      " 0.00000000e+00 1.65019650e-36 0.00000000e+00 0.00000000e+00\n",
      " 0.00000000e+00 0.00000000e+00 0.00000000e+00 0.00000000e+00\n",
      " 0.00000000e+00 0.00000000e+00 0.00000000e+00 5.98119825e-25\n",
      " 5.08969292e-33 0.00000000e+00 0.00000000e+00 0.00000000e+00\n",
      " 2.10403618e-41 0.00000000e+00 0.00000000e+00 0.00000000e+00\n",
      " 0.00000000e+00 0.00000000e+00 0.00000000e+00 0.00000000e+00\n",
      " 0.00000000e+00 0.00000000e+00 4.85617632e-29 1.01114487e-37\n",
      " 0.00000000e+00 0.00000000e+00 0.00000000e+00 1.31464034e-46\n",
      " 0.00000000e+00 0.00000000e+00 0.00000000e+00 0.00000000e+00\n",
      " 0.00000000e+00 0.00000000e+00 0.00000000e+00 0.00000000e+00\n",
      " 0.00000000e+00 1.93213511e-33 9.84399605e-43 0.00000000e+00\n",
      " 0.00000000e+00 0.00000000e+00 4.02528758e-52 0.00000000e+00\n",
      " 0.00000000e+00 0.00000000e+00 0.00000000e+00 0.00000000e+00\n",
      " 0.00000000e+00 0.00000000e+00 0.00000000e+00 0.00000000e+00]\n"
     ]
    }
   ],
   "source": [
    "#test of function   -- need to be DELETED\n",
    "r=R[7]\n",
    "z=Z[7]\n",
    "n_atom_types=len(atomic_numbers)\n",
    "num_atoms = len(z)\n",
    "molecule_representation = []\n",
    "sigma=1\n",
    "\n",
    "for i in range(num_atoms):\n",
    "    for j in range(i + 1, num_atoms):\n",
    "        if z[i] > 0 and z[j] > 0:  # both positions have valid atoms\n",
    "            distance = np.linalg.norm(r[i] - r[j]) #distances between n valid (nonzero atoms) n*(n-1) pair distances\n",
    "            #print(distance)\n",
    "            dist_feature = distance_fmap_soft(distance, bin_centers, sigma)\n",
    "            #print(len(dist_feature))\n",
    "            a_type_feature = atom_type_fmap(z[i], z[j], unique_pairs)\n",
    "            #print(len(a_type_feature))\n",
    "            combined = np.outer(dist_feature, a_type_feature).flatten()\n",
    "            #print(combined.shape)\n",
    "            molecule_representation.append(combined)\n",
    "\n",
    "if len(molecule_representation) > 0:\n",
    "    print(np.sum(molecule_representation, axis=0))\n"
   ]
  },
  {
   "cell_type": "code",
   "execution_count": 132,
   "id": "0fd920be",
   "metadata": {},
   "outputs": [],
   "source": [
    "# Determination of the optimal lambda \n",
    "def select_best_lambda(X_train, y_train, X_val, y_val, lambdas):\n",
    "    best_lambda = None\n",
    "    best_mae = float('inf')\n",
    "    for l in lambdas:\n",
    "        ridge_reg = Ridge(alpha=l) #in sklearn Ridge parameter is called alpha\n",
    "        ridge_reg.fit(X_train, y_train)\n",
    "        y_pred_val = ridge_reg.predict(X_val)\n",
    "        mae_val = mean_absolute_error(y_val, y_pred_val)\n",
    "        \n",
    "        if mae_val < best_mae:\n",
    "            best_mae = mae_val\n",
    "            best_lambda = l\n",
    "            \n",
    "    return best_lambda, best_mae"
   ]
  },
  {
   "cell_type": "code",
   "execution_count": 133,
   "id": "f699e004",
   "metadata": {},
   "outputs": [],
   "source": [
    "def evaluate_model(X, y, lambdas):\n",
    "    X_centered = X - X.mean(axis=0)\n",
    "    y_centered = y - y.mean()\n",
    "\n",
    "    #80-10-10\n",
    "    X_train_val, X_test, y_train_val, y_test = train_test_split(X_centered, y_centered, test_size=0.2, random_state=42)\n",
    "    X_train, X_val, y_train, y_val = train_test_split(X_train_val, y_train_val, test_size=0.25, random_state=42)  \n",
    "    \n",
    "    #determining best lambda\n",
    "    best_lambda,_=select_best_lambda(X_train, y_train, X_val, y_val, lambdas)\n",
    "\n",
    "    #building model with best lambda and eval on test set\n",
    "    ridge_reg = Ridge(alpha=best_lambda)\n",
    "    ridge_reg.fit(X_train_val, y_train_val)\n",
    "    y_pred_test = ridge_reg.predict(X_test)\n",
    "    mae_test = mean_absolute_error(y_test, y_pred_test)\n",
    "    return mae_test, best_lambda"
   ]
  },
  {
   "cell_type": "markdown",
   "id": "fdfcaa3f",
   "metadata": {},
   "source": [
    "### Determination of best number of bins, sigma value, lamda "
   ]
  },
  {
   "cell_type": "code",
   "execution_count": 391,
   "id": "74185857",
   "metadata": {},
   "outputs": [
    {
     "name": "stdout",
     "output_type": "stream",
     "text": [
      "Best parameters: num_bins = 20, sigma = 0.5, lambda = 0.7906043210907702\n",
      "Best MAE on test set: 6.067873406980688\n"
     ]
    }
   ],
   "source": [
    "#  grid search \n",
    "num_bins = [5, 10, 20]\n",
    "sigmas = [0.5, 1.0, 2.0]\n",
    "lambdas = np.logspace(-5, 5, 50)\n",
    "\n",
    "best_params = None\n",
    "best_mae = float('inf')\n",
    "\n",
    "for num_bins in num_bins:\n",
    "    for sigma in sigmas:\n",
    "        distance_bins = np.linspace(min_dist,max_dist, num_bins + 1)\n",
    "        bin_centers = (distance_bins[:-1] + distance_bins[1:]) / 2\n",
    "        X = np.array([get_molecule_representation_pairs(R[i], Z[i], bin_centers, sigma, unique_pairs) for i in range(Z.shape[0])])\n",
    "        y = T\n",
    "        \n",
    "        mae_test, best_lambda = evaluate_model(X, y, lambdas)\n",
    "        \n",
    "        if mae_test < best_mae:\n",
    "            best_mae = mae_test\n",
    "            best_params = (num_bins, sigma, best_lambda)\n",
    "\n",
    "print(f\"Best parameters: num_bins = {best_params[0]}, sigma = {best_params[1]}, lambda = {best_params[2]}\")\n",
    "print(f\"Best MAE on test set: {best_mae}\")"
   ]
  },
  {
   "cell_type": "code",
   "execution_count": 394,
   "id": "10659015",
   "metadata": {},
   "outputs": [],
   "source": [
    "#retriving best parameter values for final model \n",
    "best_num_bins = best_params[0]\n",
    "best_sigma = best_params[1]\n",
    "best_lambda = best_params[2]"
   ]
  },
  {
   "cell_type": "code",
   "execution_count": 395,
   "id": "1f017a3b",
   "metadata": {},
   "outputs": [],
   "source": [
    "# Recomputing distance bins and bin centers with best size of intervals (number of bins)\n",
    "distance_bins = np.linspace(min_dist,max_dist, best_num_bins + 1)\n",
    "bin_centers = (distance_bins[:-1] + distance_bins[1:]) / 2"
   ]
  },
  {
   "cell_type": "code",
   "execution_count": 397,
   "id": "75809a26",
   "metadata": {},
   "outputs": [],
   "source": [
    "X2 = np.array([get_molecule_representation_pairs(R[i], Z[i], bin_centers, best_sigma, unique_pairs) for i in range(Z.shape[0])])\n",
    "y2 = T"
   ]
  },
  {
   "cell_type": "code",
   "execution_count": 398,
   "id": "6175bf3a",
   "metadata": {},
   "outputs": [],
   "source": [
    "X_cent2 = X2 -X2.mean(axis=0)\n",
    "y_cent2 = y2 - y2.mean()\n",
    "\n",
    "X_train_val2, X_test2, y_train_val2, y_test2 = train_test_split(X_cent2, y_cent2, test_size=0.2, random_state=42)"
   ]
  },
  {
   "cell_type": "code",
   "execution_count": 399,
   "id": "712706bf",
   "metadata": {},
   "outputs": [
    {
     "name": "stdout",
     "output_type": "stream",
     "text": [
      "Train+val size:\t 5732\n",
      "Test size:\t 1433\n"
     ]
    }
   ],
   "source": [
    "print(f\"Train+val size:\\t{X_train_val2.shape[0]:>5}\")\n",
    "print(f\"Test size:\\t{X_test2.shape[0]:>5}\")"
   ]
  },
  {
   "cell_type": "code",
   "execution_count": 404,
   "id": "dd175f80",
   "metadata": {},
   "outputs": [
    {
     "name": "stdout",
     "output_type": "stream",
     "text": [
      "Mean Absolute Error on Test Set: 6.07\n"
     ]
    }
   ],
   "source": [
    "#the final model using the best lambda\n",
    "final_model = Ridge(alpha=best_lambda)\n",
    "final_model.fit(X_train_val2, y_train_val2)\n",
    "\n",
    "\n",
    "y_pred_test2= final_model.predict(X_test2)\n",
    "mae_test = mean_absolute_error(y_test2, y_pred_test2)\n",
    "print(f\"Mean Absolute Error on Test Set: {mae_test:.2f}\")"
   ]
  },
  {
   "cell_type": "code",
   "execution_count": 401,
   "id": "1dab6615",
   "metadata": {},
   "outputs": [
    {
     "name": "stdout",
     "output_type": "stream",
     "text": [
      "Final Model Weights: [-7.59962896e-01 -9.19973152e+01 -8.90160587e+01 -9.71562185e+01\n",
      " -1.54320853e-02 -6.27793319e+01 -4.87549126e+01 -4.38379409e+01\n",
      " -2.12080553e+01 -1.94218508e+00 -6.17907639e+00 -8.06027367e+00\n",
      "  2.39839313e-02  1.60117377e+01  0.00000000e+00  1.14245522e+00\n",
      "  3.79811426e+00  2.72707280e+00  8.53249444e+00 -1.01028141e+00\n",
      " -8.18378427e+00  1.06308375e+01  1.22546910e+01 -3.43413004e+01\n",
      "  2.79987950e+01  4.34608404e+01 -6.79511753e+00  1.72645217e+00\n",
      " -4.96164768e+00  0.00000000e+00  5.38793719e-02 -2.43969937e-01\n",
      "  9.11291599e-01  3.87322069e-02 -3.20097063e+00 -1.98254399e+01\n",
      " -2.38830041e+01 -2.11013306e+01  9.51631048e+00 -2.51023442e+01\n",
      " -3.29792701e+01 -5.48837071e+00 -2.70783416e+01 -6.36101213e+00\n",
      "  0.00000000e+00 -1.36721064e+00  8.30274798e-01  6.30985151e-01\n",
      "  2.28823292e-01  3.09750960e+00 -1.70662830e+01 -1.40792189e+01\n",
      " -1.25181501e+01 -1.54611743e+01 -1.59777787e+00 -6.64276464e+00\n",
      " -1.44372938e+01 -1.28574031e+01 -1.01805754e+00  0.00000000e+00\n",
      "  8.53714619e-01 -1.14346432e-01  7.51419438e-01 -1.81496746e+00\n",
      " -5.69344440e-01 -1.21988853e+01 -1.18946760e+01 -1.20949868e+01\n",
      " -3.86842430e+00 -1.89918763e+01 -1.49166480e+01  6.62400059e+00\n",
      " -1.44279232e+01 -9.10459083e+00  0.00000000e+00 -5.36964849e-02\n",
      "  1.22851791e-01 -2.19423225e+00 -6.31576728e-02 -3.76814928e+00\n",
      " -1.32265875e+01 -1.13554665e+01 -1.36473376e+01 -1.35439255e+01\n",
      " -8.27833521e+00 -1.13235478e+01 -9.27389657e+00 -1.35475246e+01\n",
      "  1.54451509e+00  0.00000000e+00  1.86737037e-01  7.49698274e-02\n",
      "  1.03378981e+00 -9.71535619e-01  1.35139585e+00 -1.51744359e+01\n",
      " -1.80940910e+01 -1.41718359e+01 -8.50959255e+00 -2.08567290e+01\n",
      " -1.61543727e+01 -4.52197744e+00 -1.18577165e+01 -6.43957375e+00\n",
      "  0.00000000e+00  3.00690079e-01  7.28125553e-01  5.12570055e-01\n",
      "  6.95238147e-01 -2.49771802e+00 -1.42917874e+01 -1.39591659e+01\n",
      " -1.62130774e+01 -1.48057437e+01 -1.26761077e+01 -1.23620378e+01\n",
      " -2.22483167e+00 -1.47999281e+01 -6.27265467e+00  0.00000000e+00\n",
      " -3.05056470e-01  7.66183170e-01  1.09367036e+00  6.77527563e-01\n",
      "  4.20898357e+00 -1.49204482e+01 -1.50188456e+01 -1.44495250e+01\n",
      " -1.09551243e+01 -1.77658751e+01 -1.45169674e+01 -9.29111441e+00\n",
      " -1.29960942e+01 -9.02522723e+00  0.00000000e+00  1.04746110e-01\n",
      "  5.72683334e-02  7.75796579e-01  3.67470797e-01  9.78478611e-01\n",
      " -1.33757364e+01 -1.37164537e+01 -1.32724570e+01 -5.07921434e+00\n",
      " -8.56627236e+00 -1.16399172e+01 -1.43000890e+01 -1.12510644e+01\n",
      " -2.98813408e+00  0.00000000e+00  2.78198987e-01  4.14129184e-01\n",
      " -4.37187579e-01  1.15266996e+00 -6.09754447e+00 -1.41433470e+01\n",
      " -1.43926026e+01 -1.16991650e+01 -5.59557377e+00 -1.35334086e+01\n",
      " -1.05733173e+01 -1.25686991e+00 -1.16953513e+01 -8.70619520e-02\n",
      "  0.00000000e+00  3.47318124e-01  7.14468138e-01  5.75279821e-01\n",
      " -2.84548632e-01 -1.74510628e+00 -1.52465953e+01 -1.49836858e+01\n",
      " -1.26271991e+01 -4.96423364e+00 -1.58602119e+01 -1.44975918e+01\n",
      " -7.05338084e-03 -1.02041645e+01 -1.74066574e-04  0.00000000e+00\n",
      "  1.44933876e-01  1.17507461e+00  3.15158758e+00  7.17421552e-01\n",
      " -5.89183888e+00 -8.68646545e+00 -1.24219889e+01 -1.28332051e+01\n",
      "  4.67259909e-01 -1.51240647e+01 -8.08261540e+00 -2.43148335e-06\n",
      " -1.17414099e+01 -2.20750245e-08  0.00000000e+00 -3.56653870e-01\n",
      " -6.15962278e-02 -1.04028763e+00  1.20669780e-01 -3.53814893e+00\n",
      " -4.27746218e+00 -2.83030523e+00 -9.20093358e+00  7.06521484e-02\n",
      " -2.79754408e+00 -1.31633280e+01 -4.99684815e-11 -9.24354636e+00\n",
      " -1.70644817e-13  0.00000000e+00  6.08231738e-02 -3.16660262e+00\n",
      " -3.22774701e+00  2.42806055e-01 -8.11048050e-02 -9.43255070e-01\n",
      "  5.18111338e-01 -4.97575854e+00  3.47437355e-04 -6.09232991e-01\n",
      " -7.84515045e+00 -6.02638159e-17 -2.87065619e+00 -7.83586587e-20\n",
      "  0.00000000e+00  1.28036320e+00 -5.94936237e+00 -4.32874848e+00\n",
      " -3.36398668e+00  2.04812840e-03 -3.27425235e+00 -4.83208441e+00\n",
      " -3.05850418e+00  9.64841646e-08 -5.53083433e-01 -1.78866117e+00\n",
      " -4.23282694e-24 -7.43957758e-02 -2.10474151e-27  0.00000000e+00\n",
      "  2.09433107e+00 -4.76982543e+00 -6.34088637e+00 -4.61508432e+00\n",
      "  2.12711869e-06 -1.37872220e-01 -1.98019218e+00 -5.29123403e-02\n",
      "  1.54359016e-12 -7.85751790e-03 -2.65900274e-02 -1.72495394e-32\n",
      " -1.10823866e-04 -3.27945538e-36  0.00000000e+00  5.12222275e+00\n",
      " -3.86127875e+00 -8.44641615e+00 -5.05368488e+00  9.24920741e-11\n",
      " -2.82001378e-04 -7.55213881e-02 -5.10935554e-05  1.42406719e-18\n",
      " -5.69520661e-06 -2.21981347e-05 -4.07038470e-42 -9.40147928e-09\n",
      " -2.95152016e-46  0.00000000e+00  1.42627988e+00 -3.71864876e-01\n",
      " -3.21908045e-01 -2.24377018e-01  2.13924765e-16 -3.25717185e-08\n",
      " -1.70965974e-04 -2.87255775e-09  7.57657069e-26 -2.32915648e-10\n",
      " -1.04799882e-09 -5.55528716e-53 -4.58749442e-14 -1.53119616e-57\n",
      "  0.00000000e+00 -3.15260979e+00 -2.15013203e-03 -7.58725874e-04\n",
      " -5.79363141e-04  2.79008709e-23 -2.19532383e-13 -2.23476339e-08\n",
      " -9.39980755e-15  2.32466113e-34 -5.47016568e-16 -2.81984296e-15\n",
      " -4.38200258e-65 -1.29418590e-20 -4.57452071e-70  0.00000000e+00]\n",
      "Final Model Intercept: -310.23091222604126\n"
     ]
    }
   ],
   "source": [
    "# weights in the original space (before centering)\n",
    "w2 = final_model.coef_\n",
    "b2 = y.mean() - np.dot(w2, X2.mean(axis=0))\n",
    "\n",
    "print(f\"Final Model Weights: {w2}\")\n",
    "print(f\"Final Model Intercept: {b2}\")"
   ]
  },
  {
   "cell_type": "code",
   "execution_count": 406,
   "id": "7370176d",
   "metadata": {},
   "outputs": [
    {
     "data": {
      "text/plain": [
       "(300,)"
      ]
     },
     "execution_count": 406,
     "metadata": {},
     "output_type": "execute_result"
    }
   ],
   "source": [
    "w2.shape #15 pairs * 20 distance bins"
   ]
  },
  {
   "cell_type": "code",
   "execution_count": 140,
   "id": "7b70e11b",
   "metadata": {},
   "outputs": [],
   "source": [
    "# params\n",
    "num_bins = [5, 10, 20]\n",
    "sigmas = [0.5, 1.0, 2.0]\n",
    "lambdas = np.logspace(-5, 5, 50)"
   ]
  },
  {
   "cell_type": "code",
   "execution_count": 136,
   "id": "ad11d398",
   "metadata": {},
   "outputs": [],
   "source": [
    "outer_kf = KFold(n_splits=k, shuffle=True, random_state=42)\n",
    "outer_rmse_scores = []\n",
    "outer_mae_scores = []\n",
    "best_params_per_fold = []\n",
    "\n",
    "for train_val_index, test_index in outer_kf.split(X):\n",
    "    X_train_val, X_test = X[train_val_index], X[test_index]\n",
    "    y_train_val, y_test = y[train_val_index], y[test_index]\n",
    "\n",
    "    inner_kf = KFold(n_splits=k-1, shuffle=True, random_state=42)\n",
    "    best_params = None\n",
    "    best_mae = float('inf')\n",
    "\n",
    "    for num_bin in num_bins:\n",
    "        distance_bins = np.linspace(min_dist, max_dist, num_bin + 1)\n",
    "        bin_centers = (distance_bins[:-1] + distance_bins[1:]) / 2\n",
    "\n",
    "        for sigma in sigmas:\n",
    "            X_train_pairs = np.array([get_molecule_representation_pairs(R[i], Z[i], bin_centers, sigma, unique_pairs) for i in train_val_index])\n",
    "            X_test_pairs = np.array([get_molecule_representation_pairs(R[i], Z[i], bin_centers, sigma, unique_pairs) for i in test_index])\n",
    "\n",
    "            best_lambda, _ = select_best_lambda_kfold(X_train_pairs, y_train_val, lambdas, k-1)\n",
    "\n",
    "            ridge_reg = Ridge(alpha=best_lambda)\n",
    "            ridge_reg.fit(X_train_pairs, y_train_val)\n",
    "            y_pred_test = ridge_reg.predict(X_test_pairs)\n",
    "\n",
    "            rmse_test = mean_squared_error(y_test, y_pred_test, squared=False)\n",
    "            mae_test = mean_absolute_error(y_test, y_pred_test)\n",
    "\n",
    "            if mae_test < best_mae:\n",
    "                best_mae = mae_test\n",
    "                best_params = (num_bin, sigma, best_lambda)\n",
    "\n",
    "    best_params_per_fold.append(best_params)\n",
    "    outer_rmse_scores.append(rmse_test)\n",
    "    outer_mae_scores.append(mae_test)\n",
    "\n",
    "mean_rmse = np.mean(outer_rmse_scores)\n",
    "std_rmse = np.std(outer_rmse_scores)\n",
    "mean_mae = np.mean(outer_mae_scores)\n",
    "std_mae = np.std(outer_mae_scores)\n",
    "\n",
    "print(f\"RMSE on Test Set: {mean_rmse:.2f} ± {std_rmse:.2f}\")\n",
    "print(f\"MAE on Test Set: {mean_mae:.2f} ± {std_mae:.2f}\")\n"
   ]
  },
  {
   "cell_type": "code",
   "execution_count": null,
   "id": "0c43cd08",
   "metadata": {},
   "outputs": [],
   "source": []
  },
  {
   "cell_type": "code",
   "execution_count": null,
   "id": "6096db4e",
   "metadata": {},
   "outputs": [],
   "source": []
  },
  {
   "cell_type": "code",
   "execution_count": null,
   "id": "d0f45733",
   "metadata": {},
   "outputs": [],
   "source": []
  },
  {
   "cell_type": "code",
   "execution_count": null,
   "id": "5ed4850e",
   "metadata": {},
   "outputs": [],
   "source": []
  },
  {
   "cell_type": "code",
   "execution_count": null,
   "id": "b5e18307",
   "metadata": {},
   "outputs": [],
   "source": []
  },
  {
   "cell_type": "markdown",
   "id": "8c80ae3d",
   "metadata": {},
   "source": [
    "### Pairwise Potentials"
   ]
  },
  {
   "cell_type": "code",
   "execution_count": null,
   "id": "9f118425",
   "metadata": {},
   "outputs": [],
   "source": [
    "# Function to plot pairwise potentials\n",
    "def plot_pairwise_potentials(w, unique_pairs, bin_centers, atomic_symbols):\n",
    "    num_bins = len(bin_centers)\n",
    "    \n",
    "    #for each pair plotting the contribution vs distance\n",
    "    for i, pair in enumerate(unique_pairs):\n",
    "        \n",
    "        #extarcting the weights (contributions) for the current pair \n",
    "        contributions = w2[i*num_bins:(i+1)*num_bins] \n",
    "        \n",
    "        plt.figure(figsize=(12, 8))\n",
    "        plt.plot(bin_centers, contributions, marker='o')\n",
    "        plt.xlabel('Distance')\n",
    "        plt.ylabel('Contribution to Atomization Energy')\n",
    "        plt.title(f'Pairwise Potentials for {atomic_symbols[pair[0]]}-{atomic_symbols[pair[1]]}')\n",
    "        \n",
    "        plt.grid(True)\n",
    "        plt.show()"
   ]
  },
  {
   "cell_type": "code",
   "execution_count": null,
   "id": "e1e30860",
   "metadata": {
    "scrolled": true
   },
   "outputs": [],
   "source": [
    "# Plot pairwise potentials for each unique pair\n",
    "plot_pairwise_potentials(w, unique_pairs, bin_centers, atomic_symbols)"
   ]
  },
  {
   "cell_type": "markdown",
   "id": "8c334f1a",
   "metadata": {},
   "source": [
    "#need to understand from this plot.<br>\n",
    "Make these plots, and check whether the pairwise potentials you obtain for each\n",
    "pair of atom types are consistent with chemical knowledge, e.g. whether they reflect typical bond lengths\n",
    "between different atoms."
   ]
  },
  {
   "cell_type": "markdown",
   "id": "b4248822",
   "metadata": {},
   "source": [
    "typical bond lengths in Ångströms (Å):\n",
    "\n",
    "H-H: ~0.74 Å\n",
    "\n",
    "C-H: ~1.09 Å\n",
    "\n",
    "C-C: ~1.54 Å (single bond), ~1.34 Å (double bond), ~1.20 Å (triple bond)\n",
    "\n",
    "N-H: ~1.01 Å\n",
    "\n",
    "N-N: ~1.45 Å (single bond), ~1.25 Å (double bond)\n",
    "\n",
    "O-H: ~0.96 Å\n",
    "\n",
    "O-O: ~1.48 Å (single bond), ~1.21 Å (double bond)\n",
    "\n",
    "S-H: ~1.34 Å\n",
    "\n",
    "S-S: ~2.05 Å (single bond)\n"
   ]
  }
 ],
 "metadata": {
  "kernelspec": {
   "display_name": "Python 3 (ipykernel)",
   "language": "python",
   "name": "python3"
  },
  "language_info": {
   "codemirror_mode": {
    "name": "ipython",
    "version": 3
   },
   "file_extension": ".py",
   "mimetype": "text/x-python",
   "name": "python",
   "nbconvert_exporter": "python",
   "pygments_lexer": "ipython3",
   "version": "3.9.12"
  }
 },
 "nbformat": 4,
 "nbformat_minor": 5
}
